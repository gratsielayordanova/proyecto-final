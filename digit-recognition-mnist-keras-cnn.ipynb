{
 "cells": [
  {
   "cell_type": "markdown",
   "metadata": {
    "papermill": {
     "duration": 0.036721,
     "end_time": "2021-02-19T16:15:01.997376",
     "exception": false,
     "start_time": "2021-02-19T16:15:01.960655",
     "status": "completed"
    },
    "tags": []
   },
   "source": [
    "<hr/>\n",
    "\n",
    "# Digit Recognition - MNIST\n",
    "### **[by Tomas Mantero](https://www.kaggle.com/tomasmantero)**\n",
    "<hr/>\n",
    "\n",
    "### Table of Contents\n",
    "* **1. [Introduction](#ch1)**\n",
    "* **2. [Data Preparation](#ch2)**\n",
    "    * 2.1 Load data\n",
    "    * 2.2 Check for null and missing values\n",
    "    * 2.3 Normalization\n",
    "    * 2.4 Reshape\n",
    "    * 2.5 Label encoding\n",
    "    * 2.6 Split training and valdiation set\n",
    "* **3. [CNN](#ch3)**\n",
    "    * 3.1 Define the model\n",
    "    * 3.2 Set the optimizer and annealer\n",
    "    * 3.3 Data augmentation\n",
    "* **4. [Evaluate the Model](#ch4)**\n",
    "    * 4.1 Training and validation curves\n",
    "    * 4.2 Confusion matrix\n",
    "* **5. [Prediction and Submition](#ch5)**\n",
    "    * 5.1 Predict and Submit results"
   ]
  },
  {
   "cell_type": "markdown",
   "metadata": {
    "papermill": {
     "duration": 0.033191,
     "end_time": "2021-02-19T16:15:02.065901",
     "exception": false,
     "start_time": "2021-02-19T16:15:02.032710",
     "status": "completed"
    },
    "tags": []
   },
   "source": [
    "<a id=\"ch1\"></a>\n",
    "# 1. Introduction\n",
    "\n",
    "This is a 5 layers Sequential [Convolutional Neural Network](https://en.wikipedia.org/wiki/Convolutional_neural_network) for digits recognition trained on [MNIST dataset](https://en.wikipedia.org/wiki/MNIST_database). I chose to build it with keras API (Tensorflow backend) which is very intuitive. Firstly, I will prepare the data (handwritten digits images) then i will focus on the CNN modeling and evaluation.\n",
    "\n",
    "**For computational reasons, i set the number of steps (epochs) to 5, if you want to achieve 99+% of accuracy set it to 30.**\n",
    "\n",
    "This Notebook follows three main parts:\n",
    "\n",
    "* The data preparation\n",
    "* The CNN modeling and evaluation\n",
    "* The results prediction and submission\n",
    "\n",
    "\n",
    "<img src=\"https://upload.wikimedia.org/wikipedia/commons/2/27/MnistExamples.png\" width=\"500\" height=\"500\"/>\n",
    "<br>"
   ]
  },
  {
   "cell_type": "markdown",
   "metadata": {
    "papermill": {
     "duration": 0.033257,
     "end_time": "2021-02-19T16:15:02.132816",
     "exception": false,
     "start_time": "2021-02-19T16:15:02.099559",
     "status": "completed"
    },
    "tags": []
   },
   "source": [
    "### Imports"
   ]
  },
  {
   "cell_type": "code",
   "execution_count": 1,
   "metadata": {
    "execution": {
     "iopub.execute_input": "2021-02-19T16:15:02.216409Z",
     "iopub.status.busy": "2021-02-19T16:15:02.215707Z",
     "iopub.status.idle": "2021-02-19T16:15:09.452343Z",
     "shell.execute_reply": "2021-02-19T16:15:09.450986Z"
    },
    "papermill": {
     "duration": 7.285051,
     "end_time": "2021-02-19T16:15:09.452484",
     "exception": false,
     "start_time": "2021-02-19T16:15:02.167433",
     "status": "completed"
    },
    "tags": []
   },
   "outputs": [],
   "source": [
    "# data analysis and wrangling\n",
    "import pandas as pd\n",
    "import numpy as np\n",
    "np.random.seed(2)\n",
    "\n",
    "# visualization\n",
    "import matplotlib.pyplot as plt\n",
    "import matplotlib.image as mpimg\n",
    "import seaborn as sns\n",
    "%matplotlib inline\n",
    "sns.set(style='white', context='notebook', palette='deep')\n",
    "\n",
    "# train test split\n",
    "from sklearn.model_selection import train_test_split\n",
    "from sklearn.metrics import confusion_matrix\n",
    "import itertools\n",
    "\n",
    "# creating a model\n",
    "from tensorflow.keras.utils import to_categorical # convert to one-hot-encoding\n",
    "from tensorflow.keras.models import Sequential\n",
    "from tensorflow.keras.layers import Dense, Dropout, Flatten, Conv2D, MaxPool2D\n",
    "from tensorflow.keras.optimizers import RMSprop\n",
    "from tensorflow.keras.preprocessing.image import ImageDataGenerator\n",
    "from tensorflow.keras.callbacks import ReduceLROnPlateau"
   ]
  },
  {
   "cell_type": "markdown",
   "metadata": {
    "papermill": {
     "duration": 0.034008,
     "end_time": "2021-02-19T16:15:09.520562",
     "exception": false,
     "start_time": "2021-02-19T16:15:09.486554",
     "status": "completed"
    },
    "tags": []
   },
   "source": [
    "***Definitions***\n",
    "\n",
    "**[itertools](https://www.educative.io/edpresso/what-are-itertools-in-python):** It is used to iterate over data structures that can be stepped over using a for-loop. Such data structures are also known as iterables.\n",
    "* Infinite iterators: run indefinitely (i.e they will continue to run forever if you do not put a stopping condition).\n",
    "* Finite iterators: terminate (i.e you do not run the risk of getting into an infinite loop).\n",
    "\n",
    "**Integer Encoding:** Each unique category value is assigned an integer value. For example, “red” is 1, “green” is 2, and “blue” is 3.\n",
    "\n",
    "**One-Hot Encoding:** The integer encoded variable is removed and a new binary variable is added for each unique integer value. The binary variables are often called “dummy variables” in other fields, such as statistics.\n",
    "\n",
    "**[tf.keras.utils.to_categorical:](https://www.tensorflow.org/api_docs/python/tf/keras/utils/to_categorical)** Converts a class vector (integers) to binary class matrix.\n",
    "\n",
    "**[Dense layer:](https://keras.io/api/layers/core_layers/dense/)** Just your regular densely-connected NN layer.\n",
    "\n",
    "**[Flatten layer:](https://keras.io/api/layers/reshaping_layers/flatten/)** Flattens the input. Does not affect the batch size.\n",
    "\n",
    "**[Model training APIs:](https://keras.io/api/models/model_training_apis/)** Compile method, fit method, evaluate method, predict method...\n",
    "\n",
    "**[Conv2D layer:](https://keras.io/api/layers/convolution_layers/convolution2d/)** 2D convolution layer. This layer creates a convolution kernel that is convolved with the layer input to produce a tensor of outputs.\n",
    "\n",
    "**[MaxPooling2D layer:](https://keras.io/api/layers/pooling_layers/max_pooling2d/)** Max pooling operation for 2D spatial data. Downsamples the input representation by taking the maximum value over the window defined by `pool_size` for each dimension along the features axis. The window is shifted by `strides` in each dimension. The resulting output when using \"valid\" padding option has a shape(number of rows or columns) of: `output_shape = (input_shape - pool_size + 1) / strides)`\n",
    "\n",
    "**[RMSprop:](https://keras.io/api/optimizers/rmsprop/)** The gist of RMSprop is to Maintain a moving (discounted) average of the square of gradients  and Divide the gradient by the root of this average.\n",
    "\n",
    "**[ImageDataGenerator class:](https://keras.io/api/preprocessing/image/)** Generate batches of tensor image data with real-time data augmentation. The data will be looped over (in batches).\n",
    "\n",
    "**[ReduceLROnPlateau:](https://keras.io/api/callbacks/reduce_lr_on_plateau/)** Reduce learning rate when a metric has stopped improving."
   ]
  },
  {
   "cell_type": "markdown",
   "metadata": {
    "papermill": {
     "duration": 0.032949,
     "end_time": "2021-02-19T16:15:09.586749",
     "exception": false,
     "start_time": "2021-02-19T16:15:09.553800",
     "status": "completed"
    },
    "tags": []
   },
   "source": [
    "<a id=\"ch2\"></a>\n",
    "# 2. Data preparation\n",
    "## 2.1 Load data"
   ]
  },
  {
   "cell_type": "code",
   "execution_count": 2,
   "metadata": {
    "execution": {
     "iopub.execute_input": "2021-02-19T16:15:09.663698Z",
     "iopub.status.busy": "2021-02-19T16:15:09.663024Z",
     "iopub.status.idle": "2021-02-19T16:15:15.900679Z",
     "shell.execute_reply": "2021-02-19T16:15:15.899895Z"
    },
    "papermill": {
     "duration": 6.280556,
     "end_time": "2021-02-19T16:15:15.900809",
     "exception": false,
     "start_time": "2021-02-19T16:15:09.620253",
     "status": "completed"
    },
    "tags": []
   },
   "outputs": [],
   "source": [
    "# Load the data\n",
    "train = pd.read_csv(\"../input/digit-recognizer/train.csv\")\n",
    "test = pd.read_csv(\"../input/digit-recognizer/test.csv\")"
   ]
  },
  {
   "cell_type": "code",
   "execution_count": 3,
   "metadata": {
    "execution": {
     "iopub.execute_input": "2021-02-19T16:15:16.097929Z",
     "iopub.status.busy": "2021-02-19T16:15:15.984959Z",
     "iopub.status.idle": "2021-02-19T16:15:16.101582Z",
     "shell.execute_reply": "2021-02-19T16:15:16.100992Z"
    },
    "papermill": {
     "duration": 0.166992,
     "end_time": "2021-02-19T16:15:16.101708",
     "exception": false,
     "start_time": "2021-02-19T16:15:15.934716",
     "status": "completed"
    },
    "tags": []
   },
   "outputs": [],
   "source": [
    "# features\n",
    "X_train = train.drop('label',axis = 1)\n",
    "\n",
    "# label\n",
    "Y_train = train['label'] \n",
    "\n",
    "# free some space\n",
    "del train "
   ]
  },
  {
   "cell_type": "code",
   "execution_count": 4,
   "metadata": {
    "_kg_hide-input": true,
    "execution": {
     "iopub.execute_input": "2021-02-19T16:15:16.176236Z",
     "iopub.status.busy": "2021-02-19T16:15:16.175531Z",
     "iopub.status.idle": "2021-02-19T16:15:16.185384Z",
     "shell.execute_reply": "2021-02-19T16:15:16.184650Z"
    },
    "papermill": {
     "duration": 0.049543,
     "end_time": "2021-02-19T16:15:16.185515",
     "exception": false,
     "start_time": "2021-02-19T16:15:16.135972",
     "status": "completed"
    },
    "tags": []
   },
   "outputs": [
    {
     "name": "stdout",
     "output_type": "stream",
     "text": [
      "0    3795\n",
      "1    4063\n",
      "2    4072\n",
      "3    4132\n",
      "4    4137\n",
      "5    4177\n",
      "6    4188\n",
      "7    4351\n",
      "8    4401\n",
      "9    4684\n",
      "Name: label, dtype: int64\n",
      "\n",
      "\n",
      "Total:  42000\n"
     ]
    }
   ],
   "source": [
    "print(Y_train.value_counts().sort_values(ignore_index=True))\n",
    "print('\\n')\n",
    "print('Total: ',Y_train.value_counts().sum()) # We have 42 000 training images"
   ]
  },
  {
   "cell_type": "code",
   "execution_count": 5,
   "metadata": {
    "_kg_hide-input": true,
    "execution": {
     "iopub.execute_input": "2021-02-19T16:15:16.262213Z",
     "iopub.status.busy": "2021-02-19T16:15:16.261482Z",
     "iopub.status.idle": "2021-02-19T16:15:16.550396Z",
     "shell.execute_reply": "2021-02-19T16:15:16.550919Z"
    },
    "papermill": {
     "duration": 0.329967,
     "end_time": "2021-02-19T16:15:16.551060",
     "exception": false,
     "start_time": "2021-02-19T16:15:16.221093",
     "status": "completed"
    },
    "tags": []
   },
   "outputs": [
    {
     "data": {
      "text/plain": [
       "Text(0.5, 1.0, 'Y_train Labels')"
      ]
     },
     "execution_count": 5,
     "metadata": {},
     "output_type": "execute_result"
    },
    {
     "data": {
      "image/png": "[encoded data removed]",
      "text/plain": [
       "<Figure size 432x288 with 1 Axes>"
      ]
     },
     "metadata": {},
     "output_type": "display_data"
    }
   ],
   "source": [
    "g = sns.countplot(Y_train, palette='hsv')\n",
    "g.set_xlabel('Label')\n",
    "g.set_ylabel('Count')\n",
    "g.set_title('Y_train Labels')"
   ]
  },
  {
   "cell_type": "markdown",
   "metadata": {
    "papermill": {
     "duration": 0.035821,
     "end_time": "2021-02-19T16:15:16.622484",
     "exception": false,
     "start_time": "2021-02-19T16:15:16.586663",
     "status": "completed"
    },
    "tags": []
   },
   "source": [
    "We have similar counts for the 10 digits."
   ]
  },
  {
   "cell_type": "markdown",
   "metadata": {
    "papermill": {
     "duration": 0.035079,
     "end_time": "2021-02-19T16:15:16.693124",
     "exception": false,
     "start_time": "2021-02-19T16:15:16.658045",
     "status": "completed"
    },
    "tags": []
   },
   "source": [
    "## 2.2 Check for null and missing values"
   ]
  },
  {
   "cell_type": "code",
   "execution_count": 6,
   "metadata": {
    "execution": {
     "iopub.execute_input": "2021-02-19T16:15:16.770665Z",
     "iopub.status.busy": "2021-02-19T16:15:16.769968Z",
     "iopub.status.idle": "2021-02-19T16:15:16.811932Z",
     "shell.execute_reply": "2021-02-19T16:15:16.812548Z"
    },
    "papermill": {
     "duration": 0.083459,
     "end_time": "2021-02-19T16:15:16.812700",
     "exception": false,
     "start_time": "2021-02-19T16:15:16.729241",
     "status": "completed"
    },
    "tags": []
   },
   "outputs": [
    {
     "data": {
      "text/plain": [
       "count       784\n",
       "unique        1\n",
       "top       False\n",
       "freq        784\n",
       "dtype: object"
      ]
     },
     "execution_count": 6,
     "metadata": {},
     "output_type": "execute_result"
    }
   ],
   "source": [
    "# Check the data\n",
    "X_train.isnull().any().describe()"
   ]
  },
  {
   "cell_type": "code",
   "execution_count": 7,
   "metadata": {
    "execution": {
     "iopub.execute_input": "2021-02-19T16:15:16.915989Z",
     "iopub.status.busy": "2021-02-19T16:15:16.915254Z",
     "iopub.status.idle": "2021-02-19T16:15:16.938429Z",
     "shell.execute_reply": "2021-02-19T16:15:16.937575Z"
    },
    "papermill": {
     "duration": 0.080017,
     "end_time": "2021-02-19T16:15:16.938604",
     "exception": false,
     "start_time": "2021-02-19T16:15:16.858587",
     "status": "completed"
    },
    "tags": []
   },
   "outputs": [
    {
     "data": {
      "text/plain": [
       "count       784\n",
       "unique        1\n",
       "top       False\n",
       "freq        784\n",
       "dtype: object"
      ]
     },
     "execution_count": 7,
     "metadata": {},
     "output_type": "execute_result"
    }
   ],
   "source": [
    "# Check the data\n",
    "test.isnull().any().describe()"
   ]
  },
  {
   "cell_type": "markdown",
   "metadata": {
    "papermill": {
     "duration": 0.04386,
     "end_time": "2021-02-19T16:15:17.030282",
     "exception": false,
     "start_time": "2021-02-19T16:15:16.986422",
     "status": "completed"
    },
    "tags": []
   },
   "source": [
    "I check for corrupted images (missing values inside).\n",
    "\n",
    "There is no missing values in the train and test dataset. So we can safely go ahead."
   ]
  },
  {
   "cell_type": "markdown",
   "metadata": {
    "papermill": {
     "duration": 0.036828,
     "end_time": "2021-02-19T16:15:17.104376",
     "exception": false,
     "start_time": "2021-02-19T16:15:17.067548",
     "status": "completed"
    },
    "tags": []
   },
   "source": [
    "## 2.3 Normalization"
   ]
  },
  {
   "cell_type": "markdown",
   "metadata": {
    "papermill": {
     "duration": 0.036928,
     "end_time": "2021-02-19T16:15:17.178203",
     "exception": false,
     "start_time": "2021-02-19T16:15:17.141275",
     "status": "completed"
    },
    "tags": []
   },
   "source": [
    "We perform a grayscale normalization to reduce the effect of illumination's differences.\n",
    "\n",
    "Moreover the CNN converg faster on [0..1] data than on [0..255]."
   ]
  },
  {
   "cell_type": "code",
   "execution_count": 8,
   "metadata": {
    "execution": {
     "iopub.execute_input": "2021-02-19T16:15:17.255695Z",
     "iopub.status.busy": "2021-02-19T16:15:17.254735Z",
     "iopub.status.idle": "2021-02-19T16:15:17.363202Z",
     "shell.execute_reply": "2021-02-19T16:15:17.363722Z"
    },
    "papermill": {
     "duration": 0.149123,
     "end_time": "2021-02-19T16:15:17.363885",
     "exception": false,
     "start_time": "2021-02-19T16:15:17.214762",
     "status": "completed"
    },
    "tags": []
   },
   "outputs": [],
   "source": [
    "X_train = X_train / 255.0\n",
    "test = test / 255.0"
   ]
  },
  {
   "cell_type": "markdown",
   "metadata": {
    "papermill": {
     "duration": 0.039416,
     "end_time": "2021-02-19T16:15:17.448726",
     "exception": false,
     "start_time": "2021-02-19T16:15:17.409310",
     "status": "completed"
    },
    "tags": []
   },
   "source": [
    "## 2.3 Reshape"
   ]
  },
  {
   "cell_type": "code",
   "execution_count": 9,
   "metadata": {
    "execution": {
     "iopub.execute_input": "2021-02-19T16:15:17.530313Z",
     "iopub.status.busy": "2021-02-19T16:15:17.529538Z",
     "iopub.status.idle": "2021-02-19T16:15:17.533186Z",
     "shell.execute_reply": "2021-02-19T16:15:17.532609Z"
    },
    "papermill": {
     "duration": 0.047363,
     "end_time": "2021-02-19T16:15:17.533325",
     "exception": false,
     "start_time": "2021-02-19T16:15:17.485962",
     "status": "completed"
    },
    "tags": []
   },
   "outputs": [],
   "source": [
    "# Reshape image in 3 dimensions (height = 28px, width = 28px , canal = 1)\n",
    "X_train = X_train.values.reshape(-1, 28, 28, 1)\n",
    "test = test.values.reshape(-1, 28, 28, 1)"
   ]
  },
  {
   "cell_type": "markdown",
   "metadata": {
    "papermill": {
     "duration": 0.036597,
     "end_time": "2021-02-19T16:15:17.607529",
     "exception": false,
     "start_time": "2021-02-19T16:15:17.570932",
     "status": "completed"
    },
    "tags": []
   },
   "source": [
    "Train and test images (28px x 28px) has been stock into pandas.Dataframe as 1D vectors of 784 values. We reshape all data to 28x28x1 3D matrices.\n",
    "\n",
    "Keras requires an extra dimension in the end which correspond to channels. MNIST images are gray scaled so it use only one channel. For RGB images, there is 3 channels, we would have reshaped 784px vectors to 28x28x3 3D matrices."
   ]
  },
  {
   "cell_type": "markdown",
   "metadata": {
    "papermill": {
     "duration": 0.036497,
     "end_time": "2021-02-19T16:15:17.681346",
     "exception": false,
     "start_time": "2021-02-19T16:15:17.644849",
     "status": "completed"
    },
    "tags": []
   },
   "source": [
    "## 2.5 Label encoding"
   ]
  },
  {
   "cell_type": "code",
   "execution_count": 10,
   "metadata": {
    "execution": {
     "iopub.execute_input": "2021-02-19T16:15:17.761887Z",
     "iopub.status.busy": "2021-02-19T16:15:17.761034Z",
     "iopub.status.idle": "2021-02-19T16:15:17.766237Z",
     "shell.execute_reply": "2021-02-19T16:15:17.765556Z"
    },
    "papermill": {
     "duration": 0.048259,
     "end_time": "2021-02-19T16:15:17.766357",
     "exception": false,
     "start_time": "2021-02-19T16:15:17.718098",
     "status": "completed"
    },
    "tags": []
   },
   "outputs": [],
   "source": [
    "# Encode labels to one hot vectors (ex : 2 -> [0,0,1,0,0,0,0,0,0,0])\n",
    "Y_train = to_categorical(Y_train, num_classes = 10 )"
   ]
  },
  {
   "cell_type": "markdown",
   "metadata": {
    "papermill": {
     "duration": 0.037555,
     "end_time": "2021-02-19T16:15:17.841194",
     "exception": false,
     "start_time": "2021-02-19T16:15:17.803639",
     "status": "completed"
    },
    "tags": []
   },
   "source": [
    "Labels are 10 digits numbers from 0 to 9. We need to encode these lables to one hot vectors (ex : 2 -> [0,0,1,0,0,0,0,0,0,0])."
   ]
  },
  {
   "cell_type": "markdown",
   "metadata": {
    "papermill": {
     "duration": 0.037729,
     "end_time": "2021-02-19T16:15:17.916679",
     "exception": false,
     "start_time": "2021-02-19T16:15:17.878950",
     "status": "completed"
    },
    "tags": []
   },
   "source": [
    "## 2.6 Split training and valdiation set"
   ]
  },
  {
   "cell_type": "code",
   "execution_count": 11,
   "metadata": {
    "execution": {
     "iopub.execute_input": "2021-02-19T16:15:18.002455Z",
     "iopub.status.busy": "2021-02-19T16:15:18.001292Z",
     "iopub.status.idle": "2021-02-19T16:15:18.006088Z",
     "shell.execute_reply": "2021-02-19T16:15:18.005456Z"
    },
    "papermill": {
     "duration": 0.049522,
     "end_time": "2021-02-19T16:15:18.006204",
     "exception": false,
     "start_time": "2021-02-19T16:15:17.956682",
     "status": "completed"
    },
    "tags": []
   },
   "outputs": [],
   "source": [
    "# Set the random seed\n",
    "random_seed = 2"
   ]
  },
  {
   "cell_type": "code",
   "execution_count": 12,
   "metadata": {
    "execution": {
     "iopub.execute_input": "2021-02-19T16:15:18.087002Z",
     "iopub.status.busy": "2021-02-19T16:15:18.086298Z",
     "iopub.status.idle": "2021-02-19T16:15:18.503185Z",
     "shell.execute_reply": "2021-02-19T16:15:18.502258Z"
    },
    "papermill": {
     "duration": 0.45827,
     "end_time": "2021-02-19T16:15:18.503337",
     "exception": false,
     "start_time": "2021-02-19T16:15:18.045067",
     "status": "completed"
    },
    "tags": []
   },
   "outputs": [],
   "source": [
    "# Split the train and the validation set for the fitting\n",
    "X_train, X_val, Y_train, Y_val = train_test_split(X_train, Y_train, test_size = 0.1, random_state=random_seed)"
   ]
  },
  {
   "cell_type": "markdown",
   "metadata": {
    "papermill": {
     "duration": 0.040237,
     "end_time": "2021-02-19T16:15:18.582680",
     "exception": false,
     "start_time": "2021-02-19T16:15:18.542443",
     "status": "completed"
    },
    "tags": []
   },
   "source": [
    "I choosed to split the train set in two parts : a small fraction (10%) became the validation set which the model is evaluated and the rest (90%) is used to train the model.\n",
    "\n",
    "Since we have 42 000 training images of balanced labels (see 2.1 Load data), a random split of the train set doesn't cause some labels to be over represented in the validation set. Be carefull with some unbalanced dataset a simple random split could cause inaccurate evaluation during the validation."
   ]
  },
  {
   "cell_type": "markdown",
   "metadata": {
    "papermill": {
     "duration": 0.0375,
     "end_time": "2021-02-19T16:15:18.657766",
     "exception": false,
     "start_time": "2021-02-19T16:15:18.620266",
     "status": "completed"
    },
    "tags": []
   },
   "source": [
    "We can get a better sense for one of these examples by visualising the image and looking at the label."
   ]
  },
  {
   "cell_type": "code",
   "execution_count": 13,
   "metadata": {
    "_kg_hide-input": true,
    "execution": {
     "iopub.execute_input": "2021-02-19T16:15:18.752083Z",
     "iopub.status.busy": "2021-02-19T16:15:18.741501Z",
     "iopub.status.idle": "2021-02-19T16:15:19.528555Z",
     "shell.execute_reply": "2021-02-19T16:15:19.527833Z"
    },
    "papermill": {
     "duration": 0.833002,
     "end_time": "2021-02-19T16:15:19.528687",
     "exception": false,
     "start_time": "2021-02-19T16:15:18.695685",
     "status": "completed"
    },
    "tags": []
   },
   "outputs": [
    {
     "data": {
      "text/plain": [
       "<matplotlib.image.AxesImage at 0x7f063a4384d0>"
      ]
     },
     "execution_count": 13,
     "metadata": {},
     "output_type": "execute_result"
    },
    {
     "data": {
      "image/png": "[encoded data removed]",
      "text/plain": [
       "<Figure size 1080x360 with 3 Axes>"
      ]
     },
     "metadata": {},
     "output_type": "display_data"
    }
   ],
   "source": [
    "# Some examples\n",
    "fig, axes = plt.subplots(1,3, figsize=(15,5))\n",
    "axes[0].imshow(X_train[0][:,:,0])\n",
    "axes[1].imshow(X_train[1][:,:,0])\n",
    "axes[2].imshow(X_train[2][:,:,0])"
   ]
  },
  {
   "cell_type": "markdown",
   "metadata": {
    "papermill": {
     "duration": 0.039506,
     "end_time": "2021-02-19T16:15:19.607531",
     "exception": false,
     "start_time": "2021-02-19T16:15:19.568025",
     "status": "completed"
    },
    "tags": []
   },
   "source": [
    "<a id=\"ch3\"></a>\n",
    "# 3. CNN\n",
    "## 3.1 Define the model"
   ]
  },
  {
   "cell_type": "markdown",
   "metadata": {
    "papermill": {
     "duration": 0.039117,
     "end_time": "2021-02-19T16:15:19.686164",
     "exception": false,
     "start_time": "2021-02-19T16:15:19.647047",
     "status": "completed"
    },
    "tags": []
   },
   "source": [
    "I used the [Keras Sequential API](https://keras.io/guides/sequential_model/), where you have just to add one layer at a time, starting from the input.\n",
    "\n",
    "The first is the convolutional [(Conv2D)](https://keras.io/api/layers/convolution_layers/convolution2d/) layer. It is like a set of learnable filters. I choosed to set 32 filters for the two firsts conv2D layers and 64 filters for the two last ones. Each filter transforms a part of the image (defined by the kernel size) using the kernel filter. The kernel filter matrix is applied on the whole image. Filters can be seen as a transformation of the image.\n",
    "\n",
    "The CNN can isolate features that are useful everywhere from these transformed images (feature maps).\n",
    "\n",
    "The second important layer in CNN is the pooling [(MaxPool2D)](https://keras.io/api/layers/pooling_layers/max_pooling2d/) layer. This layer simply acts as a downsampling filter. It looks at the 2 neighboring pixels and picks the maximal value. These are used to reduce computational cost, and to some extent also reduce overfitting. We have to choose the pooling size (i.e the area size pooled each time) more the pooling dimension is high, more the downsampling is important.\n",
    "\n",
    "Combining convolutional and pooling layers, CNN are able to combine local features and learn more global features of the image.\n",
    "\n",
    "[Dropout](https://keras.io/api/layers/regularization_layers/dropout/) is a regularization method, where a proportion of nodes in the layer are randomly ignored (setting their wieghts to zero) for each training sample. This drops randomly a propotion of the network and forces the network to learn features in a distributed way. This technique also improves generalization and reduces the overfitting.\n",
    "\n",
    "['relu'](https://keras.io/api/layers/activations/) is the rectifier (activation function max(0,x). The rectifier activation function is used to add non linearity to the network.\n",
    "\n",
    "The [Flatten layer](https://keras.io/api/layers/reshaping_layers/flatten/) is use to convert the final feature maps into a one single 1D vector. This flattening step is needed so that you can make use of fully connected layers after some convolutional/maxpool layers. It combines all the found local features of the previous convolutional layers.\n",
    "\n",
    "In the end I used the features in two fully-connected (Dense) layers which is just artificial an neural networks (ANN) classifier. In the last layer(Dense(10,activation=[\"softmax\"](https://en.wikipedia.org/wiki/Softmax_function))) the net outputs distribution of probability of each class."
   ]
  },
  {
   "cell_type": "code",
   "execution_count": 14,
   "metadata": {
    "execution": {
     "iopub.execute_input": "2021-02-19T16:15:19.780069Z",
     "iopub.status.busy": "2021-02-19T16:15:19.779331Z",
     "iopub.status.idle": "2021-02-19T16:15:20.024187Z",
     "shell.execute_reply": "2021-02-19T16:15:20.024738Z"
    },
    "papermill": {
     "duration": 0.298565,
     "end_time": "2021-02-19T16:15:20.024896",
     "exception": false,
     "start_time": "2021-02-19T16:15:19.726331",
     "status": "completed"
    },
    "tags": []
   },
   "outputs": [],
   "source": [
    "# Set the CNN model \n",
    "# my CNN architechture is In -> [[Conv2D->relu]*2 -> MaxPool2D -> Dropout]*2 -> Flatten -> Dense -> Dropout -> Out\n",
    "\n",
    "model = Sequential()\n",
    "\n",
    "model.add(Conv2D(filters = 32, kernel_size = (5,5), padding = 'Same', activation ='relu', input_shape = (28,28,1)))\n",
    "model.add(Conv2D(filters = 32, kernel_size = (5,5), padding = 'Same', activation ='relu', input_shape = (28,28,1)))\n",
    "model.add(MaxPool2D(pool_size = (2,2)))\n",
    "model.add(Dropout(0.25))\n",
    "\n",
    "model.add(Conv2D(filters = 64, kernel_size = (3,3), padding = 'Same', activation ='relu'))\n",
    "model.add(Conv2D(filters = 64, kernel_size = (3,3), padding = 'Same', activation ='relu'))\n",
    "model.add(MaxPool2D(pool_size=(2,2), strides=(2,2)))\n",
    "model.add(Dropout(0.25))\n",
    "\n",
    "model.add(Flatten())\n",
    "model.add(Dense(256, activation = \"relu\"))\n",
    "model.add(Dropout(0.5))\n",
    "model.add(Dense(10, activation = \"softmax\"))"
   ]
  },
  {
   "cell_type": "markdown",
   "metadata": {
    "papermill": {
     "duration": 0.03844,
     "end_time": "2021-02-19T16:15:20.102612",
     "exception": false,
     "start_time": "2021-02-19T16:15:20.064172",
     "status": "completed"
    },
    "tags": []
   },
   "source": [
    "## 3.2 Set the optimizer and annealer"
   ]
  },
  {
   "cell_type": "markdown",
   "metadata": {
    "papermill": {
     "duration": 0.038588,
     "end_time": "2021-02-19T16:15:20.179767",
     "exception": false,
     "start_time": "2021-02-19T16:15:20.141179",
     "status": "completed"
    },
    "tags": []
   },
   "source": [
    "Once our layers are added to the model, we need to **set up a score function, a loss function and an optimisation algorithm.**\n",
    "\n",
    "We define the **loss function** to measure how poorly our model performs on images with known labels. It is the error rate between the oberved labels and the predicted ones. We use a specific form for categorical classifications (>2 classes) called the **\"categorical_crossentropy\".**\n",
    "\n",
    "The most important function is **[the optimizer.](https://keras.io/api/optimizers/)** This function will iteratively improve parameters (filters kernel values, weights and bias of neurons ...) in order to minimise the loss. \n",
    "\n",
    "I choosed **[RMSprop](https://keras.io/api/optimizers/rmsprop/)** (with default values), it is a very effective optimizer. The RMSProp update adjusts the Adagrad method in a very simple way in an attempt to reduce its aggressive, monotonically decreasing learning rate.\n",
    "We could also have used **[Stochastic Gradient Descent](https://keras.io/api/optimizers/sgd/) ('sgd') optimizer,** but it is slower than RMSprop.\n",
    "\n",
    "The metric function **\"accuracy\"** is used is to evaluate the performance our model.\n",
    "This metric function is similar to the loss function, except that the results from the metric evaluation are not used when training the model (only for evaluation)."
   ]
  },
  {
   "cell_type": "code",
   "execution_count": 15,
   "metadata": {
    "execution": {
     "iopub.execute_input": "2021-02-19T16:15:20.262773Z",
     "iopub.status.busy": "2021-02-19T16:15:20.262006Z",
     "iopub.status.idle": "2021-02-19T16:15:20.266851Z",
     "shell.execute_reply": "2021-02-19T16:15:20.267383Z"
    },
    "papermill": {
     "duration": 0.047711,
     "end_time": "2021-02-19T16:15:20.267547",
     "exception": false,
     "start_time": "2021-02-19T16:15:20.219836",
     "status": "completed"
    },
    "tags": []
   },
   "outputs": [],
   "source": [
    "# Define the optimizer\n",
    "optimizer = RMSprop(learning_rate=0.001, rho=0.9, epsilon=1e-08, decay=0.0)"
   ]
  },
  {
   "cell_type": "code",
   "execution_count": 16,
   "metadata": {
    "execution": {
     "iopub.execute_input": "2021-02-19T16:15:20.353507Z",
     "iopub.status.busy": "2021-02-19T16:15:20.352631Z",
     "iopub.status.idle": "2021-02-19T16:15:20.368089Z",
     "shell.execute_reply": "2021-02-19T16:15:20.368679Z"
    },
    "papermill": {
     "duration": 0.061257,
     "end_time": "2021-02-19T16:15:20.368855",
     "exception": false,
     "start_time": "2021-02-19T16:15:20.307598",
     "status": "completed"
    },
    "tags": []
   },
   "outputs": [],
   "source": [
    "# Compile the model\n",
    "model.compile(optimizer = optimizer , loss = \"categorical_crossentropy\", metrics=[\"accuracy\"])"
   ]
  },
  {
   "cell_type": "markdown",
   "metadata": {
    "papermill": {
     "duration": 0.040718,
     "end_time": "2021-02-19T16:15:20.448524",
     "exception": false,
     "start_time": "2021-02-19T16:15:20.407806",
     "status": "completed"
    },
    "tags": []
   },
   "source": [
    "In order to make the optimizer converge faster and closest to the global minimum of the loss function, i used an annealing method of the learning rate (LR).\n",
    "\n",
    "The LR is the step by which the optimizer walks through the 'loss landscape'. The higher LR, the bigger are the steps and the quicker is the convergence. However the sampling is very poor with an high LR and the optimizer could probably fall into a local minima.\n",
    "\n",
    "Its better to have a decreasing learning rate during the training to reach efficiently the global minimum of the loss function.\n",
    "\n",
    "To keep the advantage of the fast computation time with a high LR, i decreased the LR dynamically every X steps (epochs) depending if it is necessary (when accuracy is not improved).\n",
    "\n",
    "With the ReduceLROnPlateau function from Keras.callbacks, i choose to reduce the LR by half if the accuracy is not improved after 3 epochs."
   ]
  },
  {
   "cell_type": "code",
   "execution_count": 17,
   "metadata": {
    "execution": {
     "iopub.execute_input": "2021-02-19T16:15:20.532046Z",
     "iopub.status.busy": "2021-02-19T16:15:20.531361Z",
     "iopub.status.idle": "2021-02-19T16:15:20.536659Z",
     "shell.execute_reply": "2021-02-19T16:15:20.537207Z"
    },
    "papermill": {
     "duration": 0.049009,
     "end_time": "2021-02-19T16:15:20.537391",
     "exception": false,
     "start_time": "2021-02-19T16:15:20.488382",
     "status": "completed"
    },
    "tags": []
   },
   "outputs": [],
   "source": [
    "# Set a learning rate annealer\n",
    "learning_rate_reduction = ReduceLROnPlateau(monitor=\"val_loss\", \n",
    "                                            patience=3, \n",
    "                                            verbose=1, \n",
    "                                            factor=0.5, \n",
    "                                            min_lr=0.00001)"
   ]
  },
  {
   "cell_type": "code",
   "execution_count": 18,
   "metadata": {
    "execution": {
     "iopub.execute_input": "2021-02-19T16:15:20.636591Z",
     "iopub.status.busy": "2021-02-19T16:15:20.635841Z",
     "iopub.status.idle": "2021-02-19T16:15:20.641009Z",
     "shell.execute_reply": "2021-02-19T16:15:20.640386Z"
    },
    "papermill": {
     "duration": 0.057142,
     "end_time": "2021-02-19T16:15:20.641122",
     "exception": false,
     "start_time": "2021-02-19T16:15:20.583980",
     "status": "completed"
    },
    "tags": []
   },
   "outputs": [],
   "source": [
    "epochs = 5 # Turn epochs to 30 to get better accuracy\n",
    "batch_size = 64"
   ]
  },
  {
   "cell_type": "markdown",
   "metadata": {
    "papermill": {
     "duration": 0.039622,
     "end_time": "2021-02-19T16:15:20.721050",
     "exception": false,
     "start_time": "2021-02-19T16:15:20.681428",
     "status": "completed"
    },
    "tags": []
   },
   "source": [
    "## 3.3 Data augmentation"
   ]
  },
  {
   "cell_type": "markdown",
   "metadata": {
    "papermill": {
     "duration": 0.039245,
     "end_time": "2021-02-19T16:15:20.800078",
     "exception": false,
     "start_time": "2021-02-19T16:15:20.760833",
     "status": "completed"
    },
    "tags": []
   },
   "source": [
    "In order to avoid overfitting problem, we need to expand artificially our handwritten digit dataset. We can make your existing dataset even larger. The idea is to alter the training data with small transformations to reproduce the variations occuring when someone is writing a digit.\n",
    "\n",
    "For example, the number is not centered \n",
    "The scale is not the same (some who write with big/small numbers)\n",
    "The image is rotated...\n",
    "\n",
    "Approaches that alter the training data in ways that change the array representation while keeping the label the same are known as **data augmentation techniques.** Some popular augmentations people use are grayscales, horizontal flips, vertical flips, random crops, color jitters, translations, rotations, and much more. \n",
    "\n",
    "By applying just a couple of these transformations to our training data, we can easily double or triple the number of training examples and create a very robust model.\n",
    "\n",
    "The improvement is important : \n",
    "   - Without data augmentation i obtained an accuracy of 98.114%\n",
    "   - With data augmentation i achieved 99.67% of accuracy"
   ]
  },
  {
   "cell_type": "code",
   "execution_count": 19,
   "metadata": {
    "_kg_hide-input": true,
    "execution": {
     "iopub.execute_input": "2021-02-19T16:15:20.883076Z",
     "iopub.status.busy": "2021-02-19T16:15:20.882402Z",
     "iopub.status.idle": "2021-02-19T16:15:20.885683Z",
     "shell.execute_reply": "2021-02-19T16:15:20.886159Z"
    },
    "papermill": {
     "duration": 0.046656,
     "end_time": "2021-02-19T16:15:20.886326",
     "exception": false,
     "start_time": "2021-02-19T16:15:20.839670",
     "status": "completed"
    },
    "tags": []
   },
   "outputs": [],
   "source": [
    "# Without data augmentation\n",
    "# history = model.fit(X_train, Y_train, batch_size = batch_size, epochs = epochs, validation_data = (X_val, Y_val), verbose = 2)"
   ]
  },
  {
   "cell_type": "code",
   "execution_count": 20,
   "metadata": {
    "execution": {
     "iopub.execute_input": "2021-02-19T16:15:20.972146Z",
     "iopub.status.busy": "2021-02-19T16:15:20.971076Z",
     "iopub.status.idle": "2021-02-19T16:15:21.074265Z",
     "shell.execute_reply": "2021-02-19T16:15:21.073525Z"
    },
    "papermill": {
     "duration": 0.147281,
     "end_time": "2021-02-19T16:15:21.074391",
     "exception": false,
     "start_time": "2021-02-19T16:15:20.927110",
     "status": "completed"
    },
    "tags": []
   },
   "outputs": [],
   "source": [
    "# With data augmentation to prevent overfitting\n",
    "datagen = ImageDataGenerator(\n",
    "        featurewise_center=False,  # set input mean to 0 over the dataset\n",
    "        samplewise_center=False,  # set each sample mean to 0\n",
    "        featurewise_std_normalization=False,  # divide inputs by std of the dataset\n",
    "        samplewise_std_normalization=False,  # divide each input by its std\n",
    "        zca_whitening=False,  # apply ZCA whitening\n",
    "        rotation_range=10,  # randomly rotate images in the range (degrees, 0 to 180)\n",
    "        zoom_range = 0.1, # Randomly zoom image \n",
    "        width_shift_range=0.1,  # randomly shift images horizontally (fraction of total width)\n",
    "        height_shift_range=0.1,  # randomly shift images vertically (fraction of total height)\n",
    "        horizontal_flip=False,  # randomly flip images\n",
    "        vertical_flip=False)  # randomly flip images\n",
    "\n",
    "datagen.fit(X_train)"
   ]
  },
  {
   "cell_type": "markdown",
   "metadata": {
    "papermill": {
     "duration": 0.040678,
     "end_time": "2021-02-19T16:15:21.156054",
     "exception": false,
     "start_time": "2021-02-19T16:15:21.115376",
     "status": "completed"
    },
    "tags": []
   },
   "source": [
    "For the data augmentation, i choosed to :\n",
    "   - Randomly rotate some training images by 10 degrees\n",
    "   - Randomly  Zoom by 10% some training images\n",
    "   - Randomly shift images horizontally by 10% of the width\n",
    "   - Randomly shift images vertically by 10% of the height\n",
    "   \n",
    "I did not apply a vertical_flip nor horizontal_flip since it could have lead to **misclassify symetrical numbers** such as 6 and 9.\n",
    "\n",
    "Once our model is ready, we fit the training dataset ."
   ]
  },
  {
   "cell_type": "code",
   "execution_count": 21,
   "metadata": {
    "execution": {
     "iopub.execute_input": "2021-02-19T16:15:21.245551Z",
     "iopub.status.busy": "2021-02-19T16:15:21.243956Z",
     "iopub.status.idle": "2021-02-19T16:27:29.621931Z",
     "shell.execute_reply": "2021-02-19T16:27:29.622493Z"
    },
    "papermill": {
     "duration": 728.42567,
     "end_time": "2021-02-19T16:27:29.622652",
     "exception": false,
     "start_time": "2021-02-19T16:15:21.196982",
     "status": "completed"
    },
    "tags": []
   },
   "outputs": [
    {
     "name": "stdout",
     "output_type": "stream",
     "text": [
      "Epoch 1/5\n",
      "590/590 - 146s - loss: 0.3850 - accuracy: 0.8778 - val_loss: 0.0875 - val_accuracy: 0.9729\n",
      "Epoch 2/5\n",
      "590/590 - 145s - loss: 0.1264 - accuracy: 0.9622 - val_loss: 0.0416 - val_accuracy: 0.9881\n",
      "Epoch 3/5\n",
      "590/590 - 146s - loss: 0.0951 - accuracy: 0.9716 - val_loss: 0.0330 - val_accuracy: 0.9895\n",
      "Epoch 4/5\n",
      "590/590 - 144s - loss: 0.0831 - accuracy: 0.9761 - val_loss: 0.0314 - val_accuracy: 0.9912\n",
      "Epoch 5/5\n",
      "590/590 - 146s - loss: 0.0796 - accuracy: 0.9775 - val_loss: 0.0347 - val_accuracy: 0.9902\n"
     ]
    }
   ],
   "source": [
    "# Fit the model\n",
    "# steps_per_epoch: The number of samples in your dataset divided by the batch size.\n",
    "history = model.fit(datagen.flow(X_train,Y_train, batch_size=batch_size),\n",
    "                              epochs = epochs, \n",
    "                              validation_data = (X_val,Y_val),\n",
    "                              verbose = 2, \n",
    "                              steps_per_epoch=X_train.shape[0] // batch_size, # (37800 // 64) = 590 \n",
    "                              callbacks=[learning_rate_reduction])"
   ]
  },
  {
   "cell_type": "markdown",
   "metadata": {
    "papermill": {
     "duration": 0.04301,
     "end_time": "2021-02-19T16:27:29.709214",
     "exception": false,
     "start_time": "2021-02-19T16:27:29.666204",
     "status": "completed"
    },
    "tags": []
   },
   "source": [
    "You can always view all of the layer sizes in your convolutional network by issuing the command `model.summary()`"
   ]
  },
  {
   "cell_type": "code",
   "execution_count": 22,
   "metadata": {
    "_kg_hide-input": true,
    "_kg_hide-output": true,
    "execution": {
     "iopub.execute_input": "2021-02-19T16:27:29.803146Z",
     "iopub.status.busy": "2021-02-19T16:27:29.801935Z",
     "iopub.status.idle": "2021-02-19T16:27:29.811832Z",
     "shell.execute_reply": "2021-02-19T16:27:29.810941Z"
    },
    "papermill": {
     "duration": 0.058667,
     "end_time": "2021-02-19T16:27:29.812001",
     "exception": false,
     "start_time": "2021-02-19T16:27:29.753334",
     "status": "completed"
    },
    "tags": []
   },
   "outputs": [
    {
     "name": "stdout",
     "output_type": "stream",
     "text": [
      "Model: \"sequential\"\n",
      "_________________________________________________________________\n",
      "Layer (type)                 Output Shape              Param #   \n",
      "=================================================================\n",
      "conv2d (Conv2D)              (None, 28, 28, 32)        832       \n",
      "_________________________________________________________________\n",
      "conv2d_1 (Conv2D)            (None, 28, 28, 32)        25632     \n",
      "_________________________________________________________________\n",
      "max_pooling2d (MaxPooling2D) (None, 14, 14, 32)        0         \n",
      "_________________________________________________________________\n",
      "dropout (Dropout)            (None, 14, 14, 32)        0         \n",
      "_________________________________________________________________\n",
      "conv2d_2 (Conv2D)            (None, 14, 14, 64)        18496     \n",
      "_________________________________________________________________\n",
      "conv2d_3 (Conv2D)            (None, 14, 14, 64)        36928     \n",
      "_________________________________________________________________\n",
      "max_pooling2d_1 (MaxPooling2 (None, 7, 7, 64)          0         \n",
      "_________________________________________________________________\n",
      "dropout_1 (Dropout)          (None, 7, 7, 64)          0         \n",
      "_________________________________________________________________\n",
      "flatten (Flatten)            (None, 3136)              0         \n",
      "_________________________________________________________________\n",
      "dense (Dense)                (None, 256)               803072    \n",
      "_________________________________________________________________\n",
      "dropout_2 (Dropout)          (None, 256)               0         \n",
      "_________________________________________________________________\n",
      "dense_1 (Dense)              (None, 10)                2570      \n",
      "=================================================================\n",
      "Total params: 887,530\n",
      "Trainable params: 887,530\n",
      "Non-trainable params: 0\n",
      "_________________________________________________________________\n"
     ]
    }
   ],
   "source": [
    "model.summary()"
   ]
  },
  {
   "cell_type": "markdown",
   "metadata": {
    "papermill": {
     "duration": 0.043429,
     "end_time": "2021-02-19T16:27:29.900015",
     "exception": false,
     "start_time": "2021-02-19T16:27:29.856586",
     "status": "completed"
    },
    "tags": []
   },
   "source": [
    "<a id=\"ch4\"></a>\n",
    "# 4. Evaluate the model\n",
    "## 4.1 Training and validation curves"
   ]
  },
  {
   "cell_type": "code",
   "execution_count": 23,
   "metadata": {
    "_kg_hide-input": true,
    "execution": {
     "iopub.execute_input": "2021-02-19T16:27:30.006621Z",
     "iopub.status.busy": "2021-02-19T16:27:30.005697Z",
     "iopub.status.idle": "2021-02-19T16:27:30.615939Z",
     "shell.execute_reply": "2021-02-19T16:27:30.616450Z"
    },
    "papermill": {
     "duration": 0.672478,
     "end_time": "2021-02-19T16:27:30.616611",
     "exception": false,
     "start_time": "2021-02-19T16:27:29.944133",
     "status": "completed"
    },
    "tags": []
   },
   "outputs": [
    {
     "data": {
      "image/png": "[encoded data removed]",
      "text/plain": [
       "<Figure size 1080x576 with 2 Axes>"
      ]
     },
     "metadata": {},
     "output_type": "display_data"
    }
   ],
   "source": [
    "# Plot the loss and accuracy curves for training and validation \n",
    "fig, ax = plt.subplots(2,1, figsize=(15,8))\n",
    "ax[0].plot(history.history['loss'], color='b', lw=2, label=\"Training loss\")\n",
    "ax[0].plot(history.history['val_loss'], color='r', lw=2, label=\"Validation loss\",axes =ax[0])\n",
    "legend = ax[0].legend(loc='best', shadow=True)\n",
    "\n",
    "ax[1].plot(history.history['accuracy'], color='b', lw=2, label=\"Training accuracy\")\n",
    "ax[1].plot(history.history['val_accuracy'], color='r', lw=2, label=\"Validation accuracy\")\n",
    "legend = ax[1].legend(loc='best', shadow=True)"
   ]
  },
  {
   "cell_type": "markdown",
   "metadata": {
    "papermill": {
     "duration": 0.04508,
     "end_time": "2021-02-19T16:27:30.706903",
     "exception": false,
     "start_time": "2021-02-19T16:27:30.661823",
     "status": "completed"
    },
    "tags": []
   },
   "source": [
    "The code below is for plotting loss and accuracy curves for training and validation. Since, I set epochs = 5 on this notebook . I'll show you the training and validation curves I obtained from the model I build with 30 epochs (2h30)"
   ]
  },
  {
   "cell_type": "markdown",
   "metadata": {
    "papermill": {
     "duration": 0.045429,
     "end_time": "2021-02-19T16:27:30.797547",
     "exception": false,
     "start_time": "2021-02-19T16:27:30.752118",
     "status": "completed"
    },
    "tags": []
   },
   "source": [
    "The model reaches almost 99% (98.7+%) accuracy on the validation dataset after 2 epochs. The validation accuracy is greater than the training accuracy almost every time during the training. That means that our model dosen't not overfit the training set."
   ]
  },
  {
   "cell_type": "markdown",
   "metadata": {
    "papermill": {
     "duration": 0.046299,
     "end_time": "2021-02-19T16:27:30.889933",
     "exception": false,
     "start_time": "2021-02-19T16:27:30.843634",
     "status": "completed"
    },
    "tags": []
   },
   "source": [
    "## 4.2 Confusion matrix"
   ]
  },
  {
   "cell_type": "markdown",
   "metadata": {
    "papermill": {
     "duration": 0.044999,
     "end_time": "2021-02-19T16:27:30.980144",
     "exception": false,
     "start_time": "2021-02-19T16:27:30.935145",
     "status": "completed"
    },
    "tags": []
   },
   "source": [
    "Confusion matrix can be very helpfull to see your model drawbacks.\n",
    "\n",
    "I plot the confusion matrix of the validation results."
   ]
  },
  {
   "cell_type": "code",
   "execution_count": 24,
   "metadata": {
    "_kg_hide-input": true,
    "execution": {
     "iopub.execute_input": "2021-02-19T16:27:31.087852Z",
     "iopub.status.busy": "2021-02-19T16:27:31.081689Z",
     "iopub.status.idle": "2021-02-19T16:27:35.344270Z",
     "shell.execute_reply": "2021-02-19T16:27:35.343578Z"
    },
    "papermill": {
     "duration": 4.317318,
     "end_time": "2021-02-19T16:27:35.344389",
     "exception": false,
     "start_time": "2021-02-19T16:27:31.027071",
     "status": "completed"
    },
    "tags": []
   },
   "outputs": [
    {
     "data": {
      "image/png": "[encoded data removed]",
      "text/plain": [
       "<Figure size 432x288 with 2 Axes>"
      ]
     },
     "metadata": {},
     "output_type": "display_data"
    }
   ],
   "source": [
    "# Look at confusion matrix \n",
    "\n",
    "def plot_confusion_matrix(cm, classes, normalize=False, title='Confusion matrix', cmap=plt.cm.Blues):\n",
    "    \"\"\"\n",
    "    This function prints and plots the confusion matrix.\n",
    "    Normalization can be applied by setting `normalize=True`.\n",
    "    \"\"\"\n",
    "    plt.imshow(cm, interpolation='nearest', cmap=cmap)\n",
    "    plt.title(title)\n",
    "    plt.colorbar()\n",
    "    tick_marks = np.arange(len(classes))\n",
    "    plt.xticks(tick_marks, classes)\n",
    "    plt.yticks(tick_marks, classes)\n",
    "\n",
    "    if normalize:\n",
    "        cm = cm.astype('float') / cm.sum(axis=1)[:, np.newaxis]\n",
    "\n",
    "    thresh = cm.max() / 2.\n",
    "    for i, j in itertools.product(range(cm.shape[0]), range(cm.shape[1])):\n",
    "        plt.text(j, i, cm[i, j],\n",
    "                 horizontalalignment=\"center\",\n",
    "                 color=\"white\" if cm[i, j] > thresh else \"black\")\n",
    "\n",
    "    plt.tight_layout()\n",
    "    plt.ylabel('True label')\n",
    "    plt.xlabel('Predicted label')\n",
    "\n",
    "# Predict the values from the validation dataset\n",
    "Y_pred = model.predict(X_val)\n",
    "\n",
    "# Convert predictions classes to one hot vectors \n",
    "Y_pred_classes = np.argmax(Y_pred,axis = 1) \n",
    "\n",
    "# Convert validation observations to one hot vectors\n",
    "Y_true = np.argmax(Y_val,axis = 1) \n",
    "\n",
    "# compute the confusion matrix\n",
    "confusion_mtx = confusion_matrix(Y_true, Y_pred_classes)\n",
    "\n",
    "# plot the confusion matrix\n",
    "plot_confusion_matrix(confusion_mtx, classes = range(10)) "
   ]
  },
  {
   "cell_type": "markdown",
   "metadata": {
    "papermill": {
     "duration": 0.047783,
     "end_time": "2021-02-19T16:27:35.439394",
     "exception": false,
     "start_time": "2021-02-19T16:27:35.391611",
     "status": "completed"
    },
    "tags": []
   },
   "source": [
    "Here we can see that our CNN performs very well on all digits with few errors considering the size of the validation set (4 200 images).\n",
    "\n",
    "However, it seems that our CNN has some little troubles with the 4 digits, hey are misclassified as 9. Sometime it is very difficult to catch the difference between 4 and 9 when curves are smooth."
   ]
  },
  {
   "cell_type": "markdown",
   "metadata": {
    "papermill": {
     "duration": 0.046188,
     "end_time": "2021-02-19T16:27:35.532455",
     "exception": false,
     "start_time": "2021-02-19T16:27:35.486267",
     "status": "completed"
    },
    "tags": []
   },
   "source": [
    "<a id=\"ch5\"></a>\n",
    "# 5. Prediction and submition\n",
    "## 5.1 Predict and Submit results"
   ]
  },
  {
   "cell_type": "markdown",
   "metadata": {
    "papermill": {
     "duration": 0.046107,
     "end_time": "2021-02-19T16:27:35.625066",
     "exception": false,
     "start_time": "2021-02-19T16:27:35.578959",
     "status": "completed"
    },
    "tags": []
   },
   "source": [
    "Let's investigate for errors.\n",
    "\n",
    "I want to see the most important errors . For that purpose i need to get the difference between the probabilities of real value and the predicted ones in the results."
   ]
  },
  {
   "cell_type": "code",
   "execution_count": 25,
   "metadata": {
    "_kg_hide-input": true,
    "execution": {
     "iopub.execute_input": "2021-02-19T16:27:35.733452Z",
     "iopub.status.busy": "2021-02-19T16:27:35.732404Z",
     "iopub.status.idle": "2021-02-19T16:27:37.181504Z",
     "shell.execute_reply": "2021-02-19T16:27:37.182041Z"
    },
    "papermill": {
     "duration": 1.510764,
     "end_time": "2021-02-19T16:27:37.182211",
     "exception": false,
     "start_time": "2021-02-19T16:27:35.671447",
     "status": "completed"
    },
    "tags": []
   },
   "outputs": [
    {
     "data": {
      "image/png": "[encoded data removed]",
      "text/plain": [
       "<Figure size 1080x576 with 6 Axes>"
      ]
     },
     "metadata": {},
     "output_type": "display_data"
    }
   ],
   "source": [
    "# Display some error results \n",
    "\n",
    "# Errors are difference between predicted labels and true labels\n",
    "errors = (Y_pred_classes - Y_true != 0)\n",
    "\n",
    "Y_pred_classes_errors = Y_pred_classes[errors]\n",
    "Y_pred_errors = Y_pred[errors]\n",
    "Y_true_errors = Y_true[errors]\n",
    "X_val_errors = X_val[errors]\n",
    "\n",
    "def display_errors(errors_index, img_errors, pred_errors, obs_errors):\n",
    "    \"\"\" This function shows 6 images with their predicted and real labels. \"\"\"\n",
    "    n = 0\n",
    "    nrows = 2\n",
    "    ncols = 3\n",
    "    fig, ax = plt.subplots(nrows, ncols, sharex=True, sharey=True, figsize=(15,8))\n",
    "    for row in range(nrows):\n",
    "        for col in range(ncols):\n",
    "            error = errors_index[n]\n",
    "            ax[row,col].imshow((img_errors[error]).reshape((28,28)))\n",
    "            ax[row,col].set_title(\"Predicted label : {}\\nTrue label : {}\".format(pred_errors[error],obs_errors[error]))\n",
    "            n += 1\n",
    "\n",
    "# Probabilities of the wrong predicted numbers\n",
    "Y_pred_errors_prob = np.max(Y_pred_errors,axis = 1)\n",
    "\n",
    "# Predicted probabilities of the true values in the error set\n",
    "true_prob_errors = np.diagonal(np.take(Y_pred_errors, Y_true_errors, axis=1))\n",
    "\n",
    "# Difference between the probability of the predicted label and the true label\n",
    "delta_pred_true_errors = Y_pred_errors_prob - true_prob_errors\n",
    "\n",
    "# Sorted list of the delta prob errors\n",
    "sorted_dela_errors = np.argsort(delta_pred_true_errors)\n",
    "\n",
    "# Top 6 errors \n",
    "most_important_errors = sorted_dela_errors[-6:]\n",
    "\n",
    "# Show the top 6 errors\n",
    "display_errors(most_important_errors, X_val_errors, Y_pred_classes_errors, Y_true_errors)"
   ]
  },
  {
   "cell_type": "markdown",
   "metadata": {
    "papermill": {
     "duration": 0.04721,
     "end_time": "2021-02-19T16:27:37.277592",
     "exception": false,
     "start_time": "2021-02-19T16:27:37.230382",
     "status": "completed"
    },
    "tags": []
   },
   "source": [
    "The most important errors are also the most intrigous.\n",
    "\n",
    "For those six case, the model is not ridiculous. Some of these errors can also be made by humans, especially for one the 9 that is very close to a 4. The last 9 is also very misleading, it seems for me that is a 0."
   ]
  },
  {
   "cell_type": "code",
   "execution_count": 26,
   "metadata": {
    "execution": {
     "iopub.execute_input": "2021-02-19T16:27:37.430071Z",
     "iopub.status.busy": "2021-02-19T16:27:37.429333Z",
     "iopub.status.idle": "2021-02-19T16:28:01.133990Z",
     "shell.execute_reply": "2021-02-19T16:28:01.133242Z"
    },
    "papermill": {
     "duration": 23.757865,
     "end_time": "2021-02-19T16:28:01.134123",
     "exception": false,
     "start_time": "2021-02-19T16:27:37.376258",
     "status": "completed"
    },
    "tags": []
   },
   "outputs": [],
   "source": [
    "# predict results\n",
    "results = model.predict(test)\n",
    "\n",
    "# select the indix with the maximum probability\n",
    "results = np.argmax(results,axis = 1)\n",
    "\n",
    "results = pd.Series(results,name=\"Label\")"
   ]
  },
  {
   "cell_type": "code",
   "execution_count": 27,
   "metadata": {
    "execution": {
     "iopub.execute_input": "2021-02-19T16:28:01.233553Z",
     "iopub.status.busy": "2021-02-19T16:28:01.232859Z",
     "iopub.status.idle": "2021-02-19T16:28:01.556509Z",
     "shell.execute_reply": "2021-02-19T16:28:01.555469Z"
    },
    "papermill": {
     "duration": 0.374547,
     "end_time": "2021-02-19T16:28:01.556671",
     "exception": false,
     "start_time": "2021-02-19T16:28:01.182124",
     "status": "completed"
    },
    "tags": []
   },
   "outputs": [],
   "source": [
    "submission = pd.concat([pd.Series(range(1,28001),name = \"ImageId\"),results],axis = 1)\n",
    "\n",
    "submission.to_csv(\"cnn_mnist_datagen.csv\",index=False)"
   ]
  },
  {
   "cell_type": "markdown",
   "metadata": {
    "papermill": {
     "duration": 0.048808,
     "end_time": "2021-02-19T16:28:01.661215",
     "exception": false,
     "start_time": "2021-02-19T16:28:01.612407",
     "status": "completed"
    },
    "tags": []
   },
   "source": [
    "## Feedback\n",
    "* **Your feedback is much appreciated**\n",
    "* **<b><font color='green'>Please UPVOTE if you LIKE this notebook</font></b>**\n",
    "* **Comment if you have any doubts or you found any errors in the notebook**"
   ]
  }
 ],
 "metadata": {
  "kernelspec": {
   "display_name": "Python 3",
   "language": "python",
   "name": "python3"
  },
  "language_info": {
   "codemirror_mode": {
    "name": "ipython",
    "version": 3
   },
   "file_extension": ".py",
   "mimetype": "text/x-python",
   "name": "python",
   "nbconvert_exporter": "python",
   "pygments_lexer": "ipython3",
   "version": "3.7.6"
  },
  "papermill": {
   "duration": 784.657382,
   "end_time": "2021-02-19T16:28:01.817514",
   "environment_variables": {},
   "exception": null,
   "input_path": "__notebook__.ipynb",
   "output_path": "__notebook__.ipynb",
   "parameters": {},
   "start_time": "2021-02-19T16:14:57.160132",
   "version": "2.1.0"
  }
 },
 "nbformat": 4,
 "nbformat_minor": 4
}
